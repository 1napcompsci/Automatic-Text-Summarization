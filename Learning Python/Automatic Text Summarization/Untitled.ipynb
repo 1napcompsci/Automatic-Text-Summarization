{
 "cells": [
  {
   "cell_type": "code",
   "execution_count": 1,
   "metadata": {},
   "outputs": [],
   "source": [
    "doc = ('2018九合一大選，出現「邊投票邊開票的」荒唐情況，讓藍營參選人丁守中以些微差距敗給台北市長柯文哲。儘管砸了428萬聲請驗票，最終仍無力回天，丁憤而提出選舉無效之訴。丁守中18日接受廣播專訪，他不甘心的表示「我不認為自己輸給了柯文哲」，天玉里章魚哥向來開票很準的，這次因為作弊才不準。'\n",
    "'對於遭網友吐槽「輸不起」，丁守中說「我從來不在乎」，他感嘆，台灣政治文化就是這樣子，贏了得時候大家吹捧、輸了就酸言酸語，從政以來早已習慣政治冷暖。'\n",
    "'丁守中砸428萬驗票，依然無法翻盤，還與台北市長柯文哲的票數差距更擴大了313票。對此，丁守中一在強調「天玉里章魚哥開票很準」，「我不認為自己輸給了柯文哲」，這次是作弊才不準。'\n",
    "'邊投票邊開票的亂象，讓丁守中憤恨不平，他說，姚文智的選票7點鐘後就停止成長，這就是發生棄保。他指出，在網路上有人發起「救阿北」，讓姚文智的支持者改投給柯文哲，本來三人票數都是按照一定幅度上升。他質疑，難道樂透可以一邊開獎一邊下注嗎？ 這次是作弊才不準。'\n",
    "'他提到這次驗票發現太多瑕疵、太多違法事證，加上長輩不耐久站而沒投票，種種亂象害他輸掉了這場選舉。')"
   ]
  },
  {
   "cell_type": "code",
   "execution_count": 8,
   "metadata": {},
   "outputs": [],
   "source": [
    "import jieba"
   ]
  },
  {
   "cell_type": "code",
   "execution_count": 48,
   "metadata": {},
   "outputs": [],
   "source": [
    "jieba.add_word('九合一')\n",
    "jieba.add_word('開票')\n",
    "jieba.add_word('市長')\n",
    "jieba.add_word('柯文哲')\n",
    "jieba.add_word('丁守中')\n",
    "jieba.add_word('儘管')\n",
    "jieba.add_word('章魚哥')\n",
    "jieba.add_word('對於')\n",
    "jieba.add_word('吐槽')\n",
    "jieba.add_word('從來')\n",
    "jieba.add_word('驗票')\n",
    "jieba.add_word('聲請')\n",
    "jieba.add_word('驗票')\n",
    "jieba.add_word('憤恨不平')\n",
    "jieba.add_word('棄保')\n",
    "jieba.add_word('網路')\n",
    "jieba.add_word('票數')\n",
    "jieba.add_word('質疑')\n",
    "jieba.add_word('違法')\n",
    "jieba.add_word('事證')\n",
    "jieba.add_word('長輩')\n",
    "jieba.add_word('不耐')\n",
    "jieba.add_word('亂象')\n",
    "jieba.add_word('憤而提出')\n",
    "jieba.add_word('無效之訴')\n",
    "jieba.add_word('網友')"
   ]
  },
  {
   "cell_type": "code",
   "execution_count": 49,
   "metadata": {},
   "outputs": [
    {
     "data": {
      "text/plain": [
       "'2018 九合一 大選 ， 出現 「 邊 投票 邊 開票 的 」 荒唐 情況 ， 讓 藍營 參選人 丁守中 以 些微 差距 敗給 台北 市長 柯文哲 。 儘管 砸 了 428 萬 聲請 驗票 ， 最終 仍 無力 回天 ， 丁 憤而提出 選舉 無效之訴 。 丁守中 18 日 接受 廣播 專訪 ， 他 不 甘心 的 表示 「 我 不 認為 自己 輸給 了 柯文哲 」 ， 天玉里 章魚哥 向 來 開票 很準 的 ， 這次 因為 作弊 才 不準 。 對於 遭 網友 吐槽 「 輸不起 」 ， 丁守中 說 「 我 從來 不在乎 」 ， 他 感嘆 ， 台灣 政治 文化 就是 這樣子 ， 贏了 得 時候 大家 吹捧 、 輸 了 就 酸言酸語 ， 從政以 來 早已 習慣 政治 冷暖 。 丁守中 砸 428 萬 驗票 ， 依然 無法 翻盤 ， 還與 台北 市長 柯文哲 的 票數 差距 更 擴大 了 313 票 。 對此 ， 丁守中 一在 強調 「 天玉里 章魚哥 開票 很準 」 ， 「 我 不 認為 自己 輸給 了 柯文哲 」 ， 這次 是 作弊 才 不準 。 邊 投票 邊 開票 的 亂象 ， 讓 丁守中 憤恨不平 ， 他 說 ， 姚文智 的 選票 7 點鐘 後 就 停止 成長 ， 這 就是 發生 棄保 。 他 指出 ， 在 網路 上 有人 發起 「 救阿北 」 ， 讓 姚文智 的 支持者 改投 給 柯文哲 ， 本來 三人 票數 都 是 按照 一定 幅度 上升 。 他 質疑 ， 難道 樂透 可以 一邊 開獎 一邊 下注 嗎 ？   這次 是 作弊 才 不準 。 他 提到 這次 驗票 發現 太多 瑕疵 、 太 多 違法 事證 ， 加上 長輩 不 耐久 站 而 沒 投票 ， 種種 亂象 害 他 輸掉 了 這場 選舉 。'"
      ]
     },
     "execution_count": 49,
     "metadata": {},
     "output_type": "execute_result"
    }
   ],
   "source": [
    "' '.join(jieba.cut(doc))"
   ]
  },
  {
   "cell_type": "code",
   "execution_count": 61,
   "metadata": {},
   "outputs": [],
   "source": [
    "import re\n",
    "def splitSentences(document):\n",
    "    #for sent in re.findall(u'[^!?。\\.\\!\\?]+[!?。\\.\\!\\?]?', paragraph, flags=re.U):\n",
    "    for sent in re.findall(u'[^!?。\\!\\?\\？]+[!?。\\!\\?\\？]?', document, flags=re.U):\n",
    "        yield sent\n",
    "\n",
    "sentenceDoc = []\n",
    "for sent in list(splitSentences(doc))[:]:\n",
    "    sentenceDoc.append('  '.join(jieba.cut(sent)))"
   ]
  },
  {
   "cell_type": "code",
   "execution_count": 62,
   "metadata": {},
   "outputs": [
    {
     "data": {
      "text/plain": [
       "['2018  九合一  大選  ，  出現  「  邊  投票  邊  開票  的  」  荒唐  情況  ，  讓  藍營  參選人  丁守中  以  些微  差距  敗給  台北  市長  柯文哲  。',\n",
       " '儘管  砸  了  428  萬  聲請  驗票  ，  最終  仍  無力  回天  ，  丁  憤而提出  選舉  無效之訴  。',\n",
       " '丁守中  18  日  接受  廣播  專訪  ，  他  不  甘心  的  表示  「  我  不  認為  自己  輸給  了  柯文哲  」  ，  天玉里  章魚哥  向  來  開票  很準  的  ，  這次  因為  作弊  才  不準  。',\n",
       " '對於  遭  網友  吐槽  「  輸不起  」  ，  丁守中  說  「  我  從來  不在乎  」  ，  他  感嘆  ，  台灣  政治  文化  就是  這樣子  ，  贏了  得  時候  大家  吹捧  、  輸  了  就  酸言酸語  ，  從政以  來  早已  習慣  政治  冷暖  。',\n",
       " '丁守中  砸  428  萬  驗票  ，  依然  無法  翻盤  ，  還與  台北  市長  柯文哲  的  票數  差距  更  擴大  了  313  票  。',\n",
       " '對此  ，  丁守中  一在  強調  「  天玉里  章魚哥  開票  很準  」  ，  「  我  不  認為  自己  輸給  了  柯文哲  」  ，  這次  是  作弊  才  不準  。',\n",
       " '邊  投票  邊  開票  的  亂象  ，  讓  丁守中  憤恨不平  ，  他  說  ，  姚文智  的  選票  7  點鐘  後  就  停止  成長  ，  這  就是  發生  棄保  。',\n",
       " '他  指出  ，  在  網路  上  有人  發起  「  救阿北  」  ，  讓  姚文智  的  支持者  改投  給  柯文哲  ，  本來  三人  票數  都  是  按照  一定  幅度  上升  。',\n",
       " '他  質疑  ，  難道  樂透  可以  一邊  開獎  一邊  下注  嗎  ？',\n",
       " '   這次  是  作弊  才  不準  。',\n",
       " '他  提到  這次  驗票  發現  太多  瑕疵  、  太  多  違法  事證  ，  加上  長輩  不  耐久  站  而  沒  投票  ，  種種  亂象  害  他  輸掉  了  這場  選舉  。']"
      ]
     },
     "execution_count": 62,
     "metadata": {},
     "output_type": "execute_result"
    }
   ],
   "source": [
    "sentenceDoc"
   ]
  },
  {
   "cell_type": "code",
   "execution_count": 60,
   "metadata": {},
   "outputs": [
    {
     "data": {
      "text/plain": [
       "['2018九合一大選，出現「邊投票邊開票的」荒唐情況，讓藍營參選人丁守中以些微差距敗給台北市長柯文哲。',\n",
       " '儘管砸了428萬聲請驗票，最終仍無力回天，丁憤而提出選舉無效之訴。',\n",
       " '丁守中18日接受廣播專訪，他不甘心的表示「我不認為自己輸給了柯文哲」，天玉里章魚哥向來開票很準的，這次因為作弊才不準。',\n",
       " '對於遭網友吐槽「輸不起」，丁守中說「我從來不在乎」，他感嘆，台灣政治文化就是這樣子，贏了得時候大家吹捧、輸了就酸言酸語，從政以來早已習慣政治冷暖。',\n",
       " '丁守中砸428萬驗票，依然無法翻盤，還與台北市長柯文哲的票數差距更擴大了313票。',\n",
       " '對此，丁守中一在強調「天玉里章魚哥開票很準」，「我不認為自己輸給了柯文哲」，這次是作弊才不準。',\n",
       " '邊投票邊開票的亂象，讓丁守中憤恨不平，他說，姚文智的選票7點鐘後就停止成長，這就是發生棄保。',\n",
       " '他指出，在網路上有人發起「救阿北」，讓姚文智的支持者改投給柯文哲，本來三人票數都是按照一定幅度上升。',\n",
       " '他質疑，難道樂透可以一邊開獎一邊下注嗎？',\n",
       " ' 這次是作弊才不準。',\n",
       " '他提到這次驗票發現太多瑕疵、太多違法事證，加上長輩不耐久站而沒投票，種種亂象害他輸掉了這場選舉。']"
      ]
     },
     "execution_count": 60,
     "metadata": {},
     "output_type": "execute_result"
    }
   ],
   "source": [
    "list(splitSentences(doc))"
   ]
  },
  {
   "cell_type": "code",
   "execution_count": null,
   "metadata": {},
   "outputs": [],
   "source": []
  }
 ],
 "metadata": {
  "kernelspec": {
   "display_name": "Python 3",
   "language": "python",
   "name": "python3"
  },
  "language_info": {
   "codemirror_mode": {
    "name": "ipython",
    "version": 3
   },
   "file_extension": ".py",
   "mimetype": "text/x-python",
   "name": "python",
   "nbconvert_exporter": "python",
   "pygments_lexer": "ipython3",
   "version": "3.6.5"
  }
 },
 "nbformat": 4,
 "nbformat_minor": 2
}

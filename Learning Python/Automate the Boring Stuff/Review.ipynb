{
 "cells": [
  {
   "cell_type": "code",
   "execution_count": 1,
   "metadata": {},
   "outputs": [
    {
     "name": "stdout",
     "output_type": "stream",
     "text": [
      "1\n",
      "2\n",
      "3\n",
      "4\n",
      "5\n",
      "6\n",
      "7\n",
      "8\n",
      "9\n",
      "10\n"
     ]
    }
   ],
   "source": [
    "for i in range(1,11):\n",
    "    print(i)"
   ]
  },
  {
   "cell_type": "code",
   "execution_count": 3,
   "metadata": {},
   "outputs": [
    {
     "name": "stdout",
     "output_type": "stream",
     "text": [
      "1\n",
      "2\n",
      "3\n",
      "4\n",
      "5\n",
      "6\n",
      "7\n",
      "8\n",
      "9\n",
      "10\n"
     ]
    }
   ],
   "source": [
    "x = 1\n",
    "while x < 11:\n",
    "    print(x)\n",
    "    x = x + 1"
   ]
  },
  {
   "cell_type": "code",
   "execution_count": 33,
   "metadata": {},
   "outputs": [],
   "source": [
    "def collatz(number):\n",
    "    if number % 2 == 0:\n",
    "        return number // 2\n",
    "    elif number % 2 == 1:\n",
    "        return 3 * number + 1"
   ]
  },
  {
   "cell_type": "code",
   "execution_count": 34,
   "metadata": {},
   "outputs": [
    {
     "data": {
      "text/plain": [
       "28"
      ]
     },
     "execution_count": 34,
     "metadata": {},
     "output_type": "execute_result"
    }
   ],
   "source": [
    "collatz(9)"
   ]
  },
  {
   "cell_type": "code",
   "execution_count": 75,
   "metadata": {},
   "outputs": [],
   "source": [
    "def returnOne():\n",
    "    try:\n",
    "        num = int(input('Enter number:'+ '\\n'))\n",
    "        while num != 1:\n",
    "            print(collatz(num))\n",
    "            num = collatz(num)\n",
    "    except ValueError:\n",
    "        print('You must enter an integer.')"
   ]
  },
  {
   "cell_type": "code",
   "execution_count": 74,
   "metadata": {},
   "outputs": [
    {
     "name": "stdout",
     "output_type": "stream",
     "text": [
      "Enter number:\n",
      "Yeesh\n",
      "You must enter an integer.\n"
     ]
    }
   ],
   "source": [
    "returnOne()"
   ]
  },
  {
   "cell_type": "code",
   "execution_count": 146,
   "metadata": {},
   "outputs": [],
   "source": [
    "spam = ['apples','bananas','tofu','cats']"
   ]
  },
  {
   "cell_type": "code",
   "execution_count": 151,
   "metadata": {},
   "outputs": [],
   "source": [
    "def commaSpace(list):\n",
    "    str = ''\n",
    "    for i in range(len(list)):\n",
    "        if i != len(list)-1:\n",
    "            str = str + spam[i] + ', '\n",
    "        elif i == len(list)-1:\n",
    "            str = str + 'and ' + spam[i]\n",
    "    print(str)"
   ]
  },
  {
   "cell_type": "code",
   "execution_count": 148,
   "metadata": {},
   "outputs": [
    {
     "name": "stdout",
     "output_type": "stream",
     "text": [
      "apples, bananas, tofu, and cats\n"
     ]
    }
   ],
   "source": [
    "commaSpace(spam)"
   ]
  },
  {
   "cell_type": "code",
   "execution_count": 192,
   "metadata": {},
   "outputs": [],
   "source": [
    "grid = [['.', '.', '.', '.', '.', '.'],\n",
    "        ['.', 'O', 'O', '.', '.', '.'],\n",
    "        ['O', 'O', 'O', 'O', '.', '.'],\n",
    "        ['O', 'O', 'O', 'O', 'O', '.'],\n",
    "        ['.', 'O', 'O', 'O', 'O', 'O'],\n",
    "        ['O', 'O', 'O', 'O', 'O', '.'],\n",
    "        ['O', 'O', 'O', 'O', '.', '.'],\n",
    "        ['.', 'O', 'O', '.', '.', '.'],\n",
    "        ['.', '.', '.', '.', '.', '.']]"
   ]
  },
  {
   "cell_type": "code",
   "execution_count": null,
   "metadata": {},
   "outputs": [],
   "source": []
  },
  {
   "cell_type": "code",
   "execution_count": 199,
   "metadata": {},
   "outputs": [],
   "source": [
    "# grid[x][y]\n",
    "# grid[0][0] -> grid[8][0]\n",
    "# then grid[0][1] -> grid[8][1]\n",
    "\n",
    "\n",
    "def onePlus3(lol):\n",
    "    row = len(grid)\n",
    "    col = len(grid[0])\n",
    "    \n",
    "    for y in range(0, col):\n",
    "        for x in range(0, row):\n",
    "            print(grid[x][y],end='')\n",
    "        print('')"
   ]
  },
  {
   "cell_type": "code",
   "execution_count": 200,
   "metadata": {},
   "outputs": [
    {
     "name": "stdout",
     "output_type": "stream",
     "text": [
      "..OO.OO..\n",
      ".OOOOOOO.\n",
      ".OOOOOOO.\n",
      "..OOOOO..\n",
      "...OOO...\n",
      "....O....\n"
     ]
    }
   ],
   "source": [
    "onePlus3(grid)"
   ]
  },
  {
   "cell_type": "markdown",
   "metadata": {},
   "source": [
    "**Chapter 5**"
   ]
  },
  {
   "cell_type": "code",
   "execution_count": 4,
   "metadata": {},
   "outputs": [],
   "source": [
    "stuff = {'rope': 1,'torch': 6,'gold coin': 42,'dagger': 1,'arrow': 12}"
   ]
  },
  {
   "cell_type": "code",
   "execution_count": 100,
   "metadata": {},
   "outputs": [],
   "source": [
    "def displayInventory(inventory):\n",
    "    print('Inventory:')\n",
    "    item_total = 0\n",
    "    for k, v in inventory.items():\n",
    "        print(str(v) + ' ' + k)\n",
    "        item_total = item_total + v\n",
    "    print('Total number of items: ' + str(item_total))"
   ]
  },
  {
   "cell_type": "code",
   "execution_count": 101,
   "metadata": {},
   "outputs": [
    {
     "name": "stdout",
     "output_type": "stream",
     "text": [
      "Inventory:\n",
      "1 rope\n",
      "6 torch\n",
      "42 gold coin\n",
      "1 dagger\n",
      "12 arrow\n",
      "Total number of items: 62\n"
     ]
    }
   ],
   "source": [
    "displayInventory(stuff)"
   ]
  },
  {
   "cell_type": "code",
   "execution_count": 108,
   "metadata": {},
   "outputs": [],
   "source": [
    "inv = {'gold coin': 42, 'rope': 1}\n",
    "dragonLoot = ['gold coin', 'dagger', 'gold coin', 'gold coin', 'ruby']"
   ]
  },
  {
   "cell_type": "code",
   "execution_count": 96,
   "metadata": {},
   "outputs": [],
   "source": [
    "def addToInventory(inventory, addedItems):\n",
    "    for i in addedItems:\n",
    "        if i in inventory.keys():\n",
    "            inventory[i] = inventory[i] + 1\n",
    "        else:\n",
    "            inventory.setdefault(i, 1)\n",
    "    return(inventory)"
   ]
  },
  {
   "cell_type": "code",
   "execution_count": 164,
   "metadata": {},
   "outputs": [],
   "source": [
    "def displayInventory(inventory):\n",
    "    print('Inventory:')\n",
    "    item_total = 0\n",
    "    for k, v in inventory.items():\n",
    "        print(str(v) + ' ' + k)\n",
    "        item_total = item_total + v\n",
    "    print('Total number of items: ' + str(item_total))"
   ]
  },
  {
   "cell_type": "code",
   "execution_count": 165,
   "metadata": {},
   "outputs": [],
   "source": [
    "inv = addToInventory(inv, dragonLoot)"
   ]
  },
  {
   "cell_type": "code",
   "execution_count": 167,
   "metadata": {},
   "outputs": [],
   "source": [
    "#displayInventory(inv)"
   ]
  },
  {
   "cell_type": "code",
   "execution_count": 168,
   "metadata": {},
   "outputs": [],
   "source": [
    "a = [6,3,1,2,5,4]"
   ]
  },
  {
   "cell_type": "code",
   "execution_count": 174,
   "metadata": {},
   "outputs": [
    {
     "name": "stdout",
     "output_type": "stream",
     "text": [
      "0\n",
      "1\n",
      "2\n",
      "3\n",
      "4\n",
      "5\n"
     ]
    }
   ],
   "source": [
    "for i in range(len(a)):\n",
    "    print(i)"
   ]
  },
  {
   "cell_type": "code",
   "execution_count": 175,
   "metadata": {},
   "outputs": [
    {
     "name": "stdout",
     "output_type": "stream",
     "text": [
      "6\n",
      "3\n",
      "1\n",
      "2\n",
      "5\n",
      "4\n"
     ]
    }
   ],
   "source": [
    "for i in a:\n",
    "    print(i)"
   ]
  },
  {
   "cell_type": "code",
   "execution_count": 180,
   "metadata": {},
   "outputs": [],
   "source": [
    "def xyz_there(str):\n",
    "    periodCount = 0\n",
    "    xyzCount = 0\n",
    "    for i in range(len(str)-2):\n",
    "        if str[i-1:i+3] == '.xyz':\n",
    "            periodCount += 1\n",
    "        if str[i:i+3] == 'xyz':\n",
    "            xyzCount += 1\n",
    "    if xyzCount > periodCount:\n",
    "        return True\n",
    "    else:\n",
    "        return False"
   ]
  },
  {
   "cell_type": "code",
   "execution_count": 181,
   "metadata": {},
   "outputs": [
    {
     "data": {
      "text/plain": [
       "True"
      ]
     },
     "execution_count": 181,
     "metadata": {},
     "output_type": "execute_result"
    }
   ],
   "source": [
    "xyz_there('abc.xyzxyz')"
   ]
  },
  {
   "cell_type": "code",
   "execution_count": 182,
   "metadata": {},
   "outputs": [],
   "source": [
    "a = [2,1,2,3,4]"
   ]
  },
  {
   "cell_type": "code",
   "execution_count": 185,
   "metadata": {},
   "outputs": [],
   "source": [
    "def big_diff(nums):\n",
    "    diff = max(nums) - min(nums)\n",
    "    return diff"
   ]
  },
  {
   "cell_type": "code",
   "execution_count": 186,
   "metadata": {},
   "outputs": [
    {
     "data": {
      "text/plain": [
       "3"
      ]
     },
     "execution_count": 186,
     "metadata": {},
     "output_type": "execute_result"
    }
   ],
   "source": [
    "big_diff(a)"
   ]
  },
  {
   "cell_type": "code",
   "execution_count": 189,
   "metadata": {},
   "outputs": [],
   "source": [
    "def centered_average(nums):\n",
    "  minValue = min(nums)\n",
    "  maxValue = max(nums)\n",
    "  nums.remove(minValue)\n",
    "  nums.remove(maxValue)\n",
    "  numSum = sum(nums)\n",
    "  avg = numSum/len(nums)\n",
    "  return avg"
   ]
  },
  {
   "cell_type": "code",
   "execution_count": 190,
   "metadata": {},
   "outputs": [
    {
     "data": {
      "text/plain": [
       "3.0"
      ]
     },
     "execution_count": 190,
     "metadata": {},
     "output_type": "execute_result"
    }
   ],
   "source": [
    "centered_average([1,2,3,4,100])"
   ]
  },
  {
   "cell_type": "code",
   "execution_count": 193,
   "metadata": {},
   "outputs": [],
   "source": [
    "def sum13(nums):\n",
    "    sum = 0\n",
    "    for i in nums:\n",
    "        if i == 13:\n",
    "            break\n",
    "        sum = sum + i\n",
    "    return sum"
   ]
  },
  {
   "cell_type": "code",
   "execution_count": 194,
   "metadata": {},
   "outputs": [
    {
     "data": {
      "text/plain": [
       "0"
      ]
     },
     "execution_count": 194,
     "metadata": {},
     "output_type": "execute_result"
    }
   ],
   "source": [
    "sum13([13,1,2,13,2,1,13])"
   ]
  },
  {
   "cell_type": "code",
   "execution_count": 25,
   "metadata": {},
   "outputs": [],
   "source": [
    "def sum13(nums):\n",
    "    numSum = 0\n",
    "    del13 = 0\n",
    "    after13 = 0\n",
    "    for i in range(len(nums)):\n",
    "        if nums[i] == 13:\n",
    "            del13 = del13 + 13\n",
    "            if i != len(nums) -1:\n",
    "                after13 = after13 + nums[i+1]\n",
    "        numSum = numSum + nums[i]\n",
    "    numSum = numSum - del13 - after13\n",
    "    return numSum"
   ]
  },
  {
   "cell_type": "code",
   "execution_count": 28,
   "metadata": {},
   "outputs": [],
   "source": [
    "a = [1,2,13,2,1,13]"
   ]
  },
  {
   "cell_type": "code",
   "execution_count": 30,
   "metadata": {},
   "outputs": [
    {
     "data": {
      "text/plain": [
       "13"
      ]
     },
     "execution_count": 30,
     "metadata": {},
     "output_type": "execute_result"
    }
   ],
   "source": [
    "max(a)"
   ]
  },
  {
   "cell_type": "code",
   "execution_count": 27,
   "metadata": {},
   "outputs": [
    {
     "data": {
      "text/plain": [
       "4"
      ]
     },
     "execution_count": 27,
     "metadata": {},
     "output_type": "execute_result"
    }
   ],
   "source": [
    "sum13(a)"
   ]
  },
  {
   "cell_type": "code",
   "execution_count": 20,
   "metadata": {},
   "outputs": [],
   "source": [
    "def aft13(nums):\n",
    "    after13 = 0\n",
    "    for i in range(len(nums)):\n",
    "        if nums[i] == 13:\n",
    "            if i != len(nums)-1:\n",
    "                after13 = after13 + nums[i+1]\n",
    "        \n",
    "    return after13"
   ]
  },
  {
   "cell_type": "code",
   "execution_count": 21,
   "metadata": {},
   "outputs": [
    {
     "data": {
      "text/plain": [
       "2"
      ]
     },
     "execution_count": 21,
     "metadata": {},
     "output_type": "execute_result"
    }
   ],
   "source": [
    "aft13([1,2,13,2,1,13])"
   ]
  },
  {
   "cell_type": "code",
   "execution_count": 35,
   "metadata": {},
   "outputs": [],
   "source": [
    "def min_max(lst):\n",
    "    newList = []\n",
    "    minValue = min(lst)\n",
    "    maxValue = max(lst)\n",
    "    newList.append(minValue)\n",
    "    return newList"
   ]
  },
  {
   "cell_type": "code",
   "execution_count": 36,
   "metadata": {},
   "outputs": [
    {
     "data": {
      "text/plain": [
       "[1]"
      ]
     },
     "execution_count": 36,
     "metadata": {},
     "output_type": "execute_result"
    }
   ],
   "source": [
    "min_max(a)"
   ]
  },
  {
   "cell_type": "code",
   "execution_count": 48,
   "metadata": {},
   "outputs": [],
   "source": [
    "def bouncingBall(h, bounce, window):\n",
    "    bounceCount = 0\n",
    "    bounceHeight = h * bounce\n",
    "    if h > 0 and h > window and 0 < bounce < 1:\n",
    "        bounceCount += 1\n",
    "        while bounceHeight > window:\n",
    "            bounceCount += 2\n",
    "            bounceHeight = bounceHeight * bounce\n",
    "    else:\n",
    "        return -1\n",
    "    return bounceCount"
   ]
  },
  {
   "cell_type": "code",
   "execution_count": 51,
   "metadata": {},
   "outputs": [
    {
     "data": {
      "text/plain": [
       "15"
      ]
     },
     "execution_count": 51,
     "metadata": {},
     "output_type": "execute_result"
    }
   ],
   "source": [
    "bouncingBall(30, 0.66, 1.5)"
   ]
  },
  {
   "cell_type": "code",
   "execution_count": 99,
   "metadata": {},
   "outputs": [],
   "source": [
    "def persistence(n):\n",
    "    one = 1\n",
    "    for num in str(n):\n",
    "        one = one * int(num)\n",
    "    if one > 1:\n",
    "        return persistence(str(one))\n",
    "    return one"
   ]
  },
  {
   "cell_type": "code",
   "execution_count": 100,
   "metadata": {},
   "outputs": [
    {
     "ename": "RecursionError",
     "evalue": "maximum recursion depth exceeded while getting the str of an object",
     "output_type": "error",
     "traceback": [
      "\u001b[1;31m---------------------------------------------------------------------------\u001b[0m",
      "\u001b[1;31mRecursionError\u001b[0m                            Traceback (most recent call last)",
      "\u001b[1;32m<ipython-input-100-796d8fdda889>\u001b[0m in \u001b[0;36m<module>\u001b[1;34m()\u001b[0m\n\u001b[1;32m----> 1\u001b[1;33m \u001b[0mpersistence\u001b[0m\u001b[1;33m(\u001b[0m\u001b[1;36m39\u001b[0m\u001b[1;33m)\u001b[0m\u001b[1;33m\u001b[0m\u001b[0m\n\u001b[0m",
      "\u001b[1;32m<ipython-input-99-a27ef30d8290>\u001b[0m in \u001b[0;36mpersistence\u001b[1;34m(n)\u001b[0m\n\u001b[0;32m      4\u001b[0m         \u001b[0mone\u001b[0m \u001b[1;33m=\u001b[0m \u001b[0mone\u001b[0m \u001b[1;33m*\u001b[0m \u001b[0mint\u001b[0m\u001b[1;33m(\u001b[0m\u001b[0mnum\u001b[0m\u001b[1;33m)\u001b[0m\u001b[1;33m\u001b[0m\u001b[0m\n\u001b[0;32m      5\u001b[0m     \u001b[1;32mif\u001b[0m \u001b[0mone\u001b[0m \u001b[1;33m>\u001b[0m \u001b[1;36m1\u001b[0m\u001b[1;33m:\u001b[0m\u001b[1;33m\u001b[0m\u001b[0m\n\u001b[1;32m----> 6\u001b[1;33m         \u001b[1;32mreturn\u001b[0m \u001b[0mpersistence\u001b[0m\u001b[1;33m(\u001b[0m\u001b[0mstr\u001b[0m\u001b[1;33m(\u001b[0m\u001b[0mone\u001b[0m\u001b[1;33m)\u001b[0m\u001b[1;33m)\u001b[0m\u001b[1;33m\u001b[0m\u001b[0m\n\u001b[0m\u001b[0;32m      7\u001b[0m     \u001b[1;32mreturn\u001b[0m \u001b[0mone\u001b[0m\u001b[1;33m\u001b[0m\u001b[0m\n",
      "... last 1 frames repeated, from the frame below ...\n",
      "\u001b[1;32m<ipython-input-99-a27ef30d8290>\u001b[0m in \u001b[0;36mpersistence\u001b[1;34m(n)\u001b[0m\n\u001b[0;32m      4\u001b[0m         \u001b[0mone\u001b[0m \u001b[1;33m=\u001b[0m \u001b[0mone\u001b[0m \u001b[1;33m*\u001b[0m \u001b[0mint\u001b[0m\u001b[1;33m(\u001b[0m\u001b[0mnum\u001b[0m\u001b[1;33m)\u001b[0m\u001b[1;33m\u001b[0m\u001b[0m\n\u001b[0;32m      5\u001b[0m     \u001b[1;32mif\u001b[0m \u001b[0mone\u001b[0m \u001b[1;33m>\u001b[0m \u001b[1;36m1\u001b[0m\u001b[1;33m:\u001b[0m\u001b[1;33m\u001b[0m\u001b[0m\n\u001b[1;32m----> 6\u001b[1;33m         \u001b[1;32mreturn\u001b[0m \u001b[0mpersistence\u001b[0m\u001b[1;33m(\u001b[0m\u001b[0mstr\u001b[0m\u001b[1;33m(\u001b[0m\u001b[0mone\u001b[0m\u001b[1;33m)\u001b[0m\u001b[1;33m)\u001b[0m\u001b[1;33m\u001b[0m\u001b[0m\n\u001b[0m\u001b[0;32m      7\u001b[0m     \u001b[1;32mreturn\u001b[0m \u001b[0mone\u001b[0m\u001b[1;33m\u001b[0m\u001b[0m\n",
      "\u001b[1;31mRecursionError\u001b[0m: maximum recursion depth exceeded while getting the str of an object"
     ]
    }
   ],
   "source": [
    "persistence(39)"
   ]
  },
  {
   "cell_type": "code",
   "execution_count": 69,
   "metadata": {},
   "outputs": [],
   "source": [
    "a = [1]"
   ]
  },
  {
   "cell_type": "code",
   "execution_count": 102,
   "metadata": {},
   "outputs": [
    {
     "data": {
      "text/plain": [
       "True"
      ]
     },
     "execution_count": 102,
     "metadata": {},
     "output_type": "execute_result"
    }
   ],
   "source": [
    "'1' in 'th1s'"
   ]
  },
  {
   "cell_type": "code",
   "execution_count": 104,
   "metadata": {},
   "outputs": [],
   "source": [
    "a = 'is2 Thi1s T4est 3a'"
   ]
  },
  {
   "cell_type": "code",
   "execution_count": 1,
   "metadata": {},
   "outputs": [
    {
     "ename": "SyntaxError",
     "evalue": "unexpected EOF while parsing (<ipython-input-1-5bcfd46290f0>, line 5)",
     "output_type": "error",
     "traceback": [
      "\u001b[1;36m  File \u001b[1;32m\"<ipython-input-1-5bcfd46290f0>\"\u001b[1;36m, line \u001b[1;32m5\u001b[0m\n\u001b[1;33m    \u001b[0m\n\u001b[1;37m    ^\u001b[0m\n\u001b[1;31mSyntaxError\u001b[0m\u001b[1;31m:\u001b[0m unexpected EOF while parsing\n"
     ]
    }
   ],
   "source": [
    "def order(sentence):\n",
    "    sentlist = list(sentence)\n",
    "    newlist = []\n",
    "    for i in range(len(sentlist)):\n",
    "        "
   ]
  },
  {
   "cell_type": "code",
   "execution_count": 22,
   "metadata": {},
   "outputs": [],
   "source": [
    "def find_uniq(arr):\n",
    "    arr = arr.sort()\n",
    "    print(arr)"
   ]
  },
  {
   "cell_type": "code",
   "execution_count": 33,
   "metadata": {},
   "outputs": [],
   "source": [
    "array = [1,1,1,2,1,1,1,]"
   ]
  },
  {
   "cell_type": "code",
   "execution_count": 49,
   "metadata": {},
   "outputs": [],
   "source": [
    "array.sort()"
   ]
  },
  {
   "cell_type": "code",
   "execution_count": 50,
   "metadata": {},
   "outputs": [
    {
     "data": {
      "text/plain": [
       "[1, 1, 1, 1, 1, 1, 2]"
      ]
     },
     "execution_count": 50,
     "metadata": {},
     "output_type": "execute_result"
    }
   ],
   "source": [
    "array"
   ]
  },
  {
   "cell_type": "code",
   "execution_count": 46,
   "metadata": {},
   "outputs": [],
   "source": [
    "arr = ['4','1','3','2','lol']"
   ]
  },
  {
   "cell_type": "code",
   "execution_count": 47,
   "metadata": {},
   "outputs": [],
   "source": [
    "arr.sort()"
   ]
  },
  {
   "cell_type": "code",
   "execution_count": 48,
   "metadata": {},
   "outputs": [
    {
     "data": {
      "text/plain": [
       "['1', '2', '3', '4', 'lol']"
      ]
     },
     "execution_count": 48,
     "metadata": {},
     "output_type": "execute_result"
    }
   ],
   "source": [
    "arr"
   ]
  },
  {
   "cell_type": "code",
   "execution_count": 118,
   "metadata": {},
   "outputs": [],
   "source": [
    "nlist = [{'name': 'Bart'}, {'name': 'Lisa'}, {'name': 'Maggie'}]"
   ]
  },
  {
   "cell_type": "code",
   "execution_count": 126,
   "metadata": {},
   "outputs": [
    {
     "data": {
      "text/plain": [
       "'Lisa'"
      ]
     },
     "execution_count": 126,
     "metadata": {},
     "output_type": "execute_result"
    }
   ],
   "source": [
    "nlist[1]['name']"
   ]
  },
  {
   "cell_type": "code",
   "execution_count": 127,
   "metadata": {},
   "outputs": [
    {
     "data": {
      "text/plain": [
       "3"
      ]
     },
     "execution_count": 127,
     "metadata": {},
     "output_type": "execute_result"
    }
   ],
   "source": [
    "len(nlist)"
   ]
  },
  {
   "cell_type": "code",
   "execution_count": 128,
   "metadata": {},
   "outputs": [
    {
     "data": {
      "text/plain": [
       "{'name': 'Bart'}"
      ]
     },
     "execution_count": 128,
     "metadata": {},
     "output_type": "execute_result"
    }
   ],
   "source": [
    "nlist[0]"
   ]
  },
  {
   "cell_type": "code",
   "execution_count": 143,
   "metadata": {},
   "outputs": [],
   "source": [
    "def nameList(names):\n",
    "    lon = []\n",
    "    string = ''\n",
    "    for i in range(len(names)):\n",
    "        lon.append(names[i]['name'])\n",
    "    for i in range(len(lon)):\n",
    "        if len(lon) == 1:\n",
    "            string = string + lon[i]\n",
    "        elif i < len(lon)-1:\n",
    "            string = string + lon[i]\n",
    "            if i < len(lon)-2:\n",
    "                string = string + ', '\n",
    "        elif i == len(lon)-1:\n",
    "            string = string + ' & ' + lon[i]\n",
    "    return string"
   ]
  },
  {
   "cell_type": "code",
   "execution_count": 145,
   "metadata": {},
   "outputs": [
    {
     "data": {
      "text/plain": [
       "'Bart, Lisa & Maggie'"
      ]
     },
     "execution_count": 145,
     "metadata": {},
     "output_type": "execute_result"
    }
   ],
   "source": [
    "nameList(nlist)"
   ]
  },
  {
   "cell_type": "code",
   "execution_count": 150,
   "metadata": {},
   "outputs": [],
   "source": [
    "newlist = [{'name': 'Bart'}]"
   ]
  },
  {
   "cell_type": "code",
   "execution_count": 151,
   "metadata": {},
   "outputs": [],
   "source": [
    "import math"
   ]
  },
  {
   "cell_type": "code",
   "execution_count": 179,
   "metadata": {},
   "outputs": [],
   "source": [
    "def find_next_square(sq):\n",
    "    nextsq = 0\n",
    "    sqnum = math.sqrt(sq)\n",
    "    if sqnum != int(sqnum):\n",
    "        return -1\n",
    "    else:\n",
    "        nextsq = (sqnum + 1) * (sqnum + 1)\n",
    "        return nextsq"
   ]
  },
  {
   "cell_type": "code",
   "execution_count": 181,
   "metadata": {},
   "outputs": [
    {
     "data": {
      "text/plain": [
       "144.0"
      ]
     },
     "execution_count": 181,
     "metadata": {},
     "output_type": "execute_result"
    }
   ],
   "source": [
    "find_next_square(121)"
   ]
  },
  {
   "cell_type": "code",
   "execution_count": 16,
   "metadata": {},
   "outputs": [],
   "source": [
    "def reverse_words(text):\n",
    "    newstr = ''\n",
    "    text = text.split()\n",
    "    for i in range(len(text)):\n",
    "        tick = 1\n",
    "        text[i] = text[:i-tick]\n",
    "        tick = tick + 1\n",
    "    return text"
   ]
  },
  {
   "cell_type": "code",
   "execution_count": 17,
   "metadata": {},
   "outputs": [
    {
     "data": {
      "text/plain": [
       "[['The', 'quick', 'brown', 'fox', 'jumps', 'over', 'the', 'lazy'],\n",
       " [],\n",
       " [['The', 'quick', 'brown', 'fox', 'jumps', 'over', 'the', 'lazy']],\n",
       " [['The', 'quick', 'brown', 'fox', 'jumps', 'over', 'the', 'lazy'], []],\n",
       " [['The', 'quick', 'brown', 'fox', 'jumps', 'over', 'the', 'lazy'],\n",
       "  [],\n",
       "  [['The', 'quick', 'brown', 'fox', 'jumps', 'over', 'the', 'lazy']]],\n",
       " [['The', 'quick', 'brown', 'fox', 'jumps', 'over', 'the', 'lazy'],\n",
       "  [],\n",
       "  [['The', 'quick', 'brown', 'fox', 'jumps', 'over', 'the', 'lazy']],\n",
       "  [['The', 'quick', 'brown', 'fox', 'jumps', 'over', 'the', 'lazy'], []]],\n",
       " [['The', 'quick', 'brown', 'fox', 'jumps', 'over', 'the', 'lazy'],\n",
       "  [],\n",
       "  [['The', 'quick', 'brown', 'fox', 'jumps', 'over', 'the', 'lazy']],\n",
       "  [['The', 'quick', 'brown', 'fox', 'jumps', 'over', 'the', 'lazy'], []],\n",
       "  [['The', 'quick', 'brown', 'fox', 'jumps', 'over', 'the', 'lazy'],\n",
       "   [],\n",
       "   [['The', 'quick', 'brown', 'fox', 'jumps', 'over', 'the', 'lazy']]]],\n",
       " [['The', 'quick', 'brown', 'fox', 'jumps', 'over', 'the', 'lazy'],\n",
       "  [],\n",
       "  [['The', 'quick', 'brown', 'fox', 'jumps', 'over', 'the', 'lazy']],\n",
       "  [['The', 'quick', 'brown', 'fox', 'jumps', 'over', 'the', 'lazy'], []],\n",
       "  [['The', 'quick', 'brown', 'fox', 'jumps', 'over', 'the', 'lazy'],\n",
       "   [],\n",
       "   [['The', 'quick', 'brown', 'fox', 'jumps', 'over', 'the', 'lazy']]],\n",
       "  [['The', 'quick', 'brown', 'fox', 'jumps', 'over', 'the', 'lazy'],\n",
       "   [],\n",
       "   [['The', 'quick', 'brown', 'fox', 'jumps', 'over', 'the', 'lazy']],\n",
       "   [['The', 'quick', 'brown', 'fox', 'jumps', 'over', 'the', 'lazy'], []]]],\n",
       " [['The', 'quick', 'brown', 'fox', 'jumps', 'over', 'the', 'lazy'],\n",
       "  [],\n",
       "  [['The', 'quick', 'brown', 'fox', 'jumps', 'over', 'the', 'lazy']],\n",
       "  [['The', 'quick', 'brown', 'fox', 'jumps', 'over', 'the', 'lazy'], []],\n",
       "  [['The', 'quick', 'brown', 'fox', 'jumps', 'over', 'the', 'lazy'],\n",
       "   [],\n",
       "   [['The', 'quick', 'brown', 'fox', 'jumps', 'over', 'the', 'lazy']]],\n",
       "  [['The', 'quick', 'brown', 'fox', 'jumps', 'over', 'the', 'lazy'],\n",
       "   [],\n",
       "   [['The', 'quick', 'brown', 'fox', 'jumps', 'over', 'the', 'lazy']],\n",
       "   [['The', 'quick', 'brown', 'fox', 'jumps', 'over', 'the', 'lazy'], []]],\n",
       "  [['The', 'quick', 'brown', 'fox', 'jumps', 'over', 'the', 'lazy'],\n",
       "   [],\n",
       "   [['The', 'quick', 'brown', 'fox', 'jumps', 'over', 'the', 'lazy']],\n",
       "   [['The', 'quick', 'brown', 'fox', 'jumps', 'over', 'the', 'lazy'], []],\n",
       "   [['The', 'quick', 'brown', 'fox', 'jumps', 'over', 'the', 'lazy'],\n",
       "    [],\n",
       "    [['The', 'quick', 'brown', 'fox', 'jumps', 'over', 'the', 'lazy']]]]]]"
      ]
     },
     "execution_count": 17,
     "metadata": {},
     "output_type": "execute_result"
    }
   ],
   "source": [
    "reverse_words('The quick brown fox jumps over the lazy dog.')"
   ]
  },
  {
   "cell_type": "code",
   "execution_count": 2,
   "metadata": {},
   "outputs": [
    {
     "data": {
      "text/plain": [
       "['The', 'quick', 'brown', 'fox', 'jumps', 'over', 'the', 'lazy', 'dog.']"
      ]
     },
     "execution_count": 2,
     "metadata": {},
     "output_type": "execute_result"
    }
   ],
   "source": [
    "'The quick brown fox jumps over the lazy dog.'.split()"
   ]
  },
  {
   "cell_type": "code",
   "execution_count": 21,
   "metadata": {},
   "outputs": [],
   "source": [
    "arr = [9000,8,800]"
   ]
  },
  {
   "cell_type": "code",
   "execution_count": 24,
   "metadata": {},
   "outputs": [],
   "source": [
    "def find_longest(arr):\n",
    "    #newarr = sorted(arr, reverse = True)\n",
    "    #newarr = str(arr)\n",
    "    digitCounter = 0\n",
    "    mostDigits = 0\n",
    "    for num in range(len(arr)):\n",
    "        if len(str(arr[num])) > digitCounter:\n",
    "            mostDigits = arr[num]\n",
    "            digitCounter = len(str(arr[num]))\n",
    "    return mostDigits"
   ]
  },
  {
   "cell_type": "code",
   "execution_count": 25,
   "metadata": {},
   "outputs": [
    {
     "data": {
      "text/plain": [
       "9000"
      ]
     },
     "execution_count": 25,
     "metadata": {},
     "output_type": "execute_result"
    }
   ],
   "source": [
    "find_longest(arr)"
   ]
  },
  {
   "cell_type": "code",
   "execution_count": 26,
   "metadata": {},
   "outputs": [
    {
     "data": {
      "text/plain": [
       "3"
      ]
     },
     "execution_count": 26,
     "metadata": {},
     "output_type": "execute_result"
    }
   ],
   "source": [
    "len(str(100))"
   ]
  },
  {
   "cell_type": "code",
   "execution_count": 207,
   "metadata": {},
   "outputs": [],
   "source": [
    "def decrypt(encrypted_text, n):\n",
    "    if encrypted_text == '' or n <= 0:\n",
    "        return encrypted_text\n",
    "    newText = encrypted_text\n",
    "    four = n\n",
    "    for i in range(len(newText)):\n",
    "        newText = newText[1::2] + newText[0::2]\n",
    "        #four = four + 1\n",
    "    return newText"
   ]
  },
  {
   "cell_type": "code",
   "execution_count": 211,
   "metadata": {},
   "outputs": [],
   "source": [
    "deText = 'hsi  etTi sats!'"
   ]
  },
  {
   "cell_type": "code",
   "execution_count": 213,
   "metadata": {},
   "outputs": [
    {
     "data": {
      "text/plain": [
       "'This is a test!'"
      ]
     },
     "execution_count": 213,
     "metadata": {},
     "output_type": "execute_result"
    }
   ],
   "source": [
    "decrypt(deText, 1)"
   ]
  },
  {
   "cell_type": "code",
   "execution_count": 115,
   "metadata": {},
   "outputs": [],
   "source": [
    "def encrypt(text, n):\n",
    "    if text == '' or n <= 0:\n",
    "        return text\n",
    "    timesN = 0\n",
    "    newText = text\n",
    "    while timesN != n:\n",
    "        newText = newText[1::2] + newText[0::2]\n",
    "        timesN = timesN + 1\n",
    "    return newText"
   ]
  },
  {
   "cell_type": "code",
   "execution_count": 128,
   "metadata": {},
   "outputs": [],
   "source": [
    "text = 'This kata is very interesting!'"
   ]
  },
  {
   "cell_type": "code",
   "execution_count": 129,
   "metadata": {},
   "outputs": [
    {
     "data": {
      "text/plain": [
       "'hskt svr neetn!Ti aai eyitrsig'"
      ]
     },
     "execution_count": 129,
     "metadata": {},
     "output_type": "execute_result"
    }
   ],
   "source": [
    "encrypt(text, 1)"
   ]
  },
  {
   "cell_type": "code",
   "execution_count": 227,
   "metadata": {},
   "outputs": [],
   "source": [
    "def decrypt(encrypted_text, n):\n",
    "    if encrypted_text == '' or n <= 0:\n",
    "        return encrypted_text\n",
    "    newText = encrypted_text\n",
    "    for i in range(len(newText)):\n",
    "        newText = newText[1::2] + newText[0::2]\n",
    "    return newText"
   ]
  },
  {
   "cell_type": "code",
   "execution_count": 380,
   "metadata": {},
   "outputs": [],
   "source": [
    "def decrypt(encrypted_text, n):\n",
    "    if encrypted_text == '' or n <= 0:\n",
    "        return encrypted_text\n",
    "    n = 4 - n\n",
    "    newText = encrypted_text\n",
    "    for i in range(n):\n",
    "        newText = newText[1::2] + newText[0::2]\n",
    "        #print(newText)\n",
    "    return newText"
   ]
  },
  {
   "cell_type": "code",
   "execution_count": 381,
   "metadata": {},
   "outputs": [],
   "source": [
    "de1 = 'hsi  etTi sats!'"
   ]
  },
  {
   "cell_type": "code",
   "execution_count": 382,
   "metadata": {},
   "outputs": [],
   "source": [
    "de2 = 's eT ashi tist!'"
   ]
  },
  {
   "cell_type": "code",
   "execution_count": 383,
   "metadata": {},
   "outputs": [],
   "source": [
    "de3 = ' Tah itse sits!'"
   ]
  },
  {
   "cell_type": "code",
   "execution_count": 387,
   "metadata": {},
   "outputs": [],
   "source": [
    "de4 = 'This is a test!'"
   ]
  },
  {
   "cell_type": "code",
   "execution_count": 388,
   "metadata": {},
   "outputs": [],
   "source": [
    "kata = 'hskt svr neetn!Ti aai eyitrsig'"
   ]
  },
  {
   "cell_type": "code",
   "execution_count": 386,
   "metadata": {},
   "outputs": [],
   "source": [
    "decrypt(None, 0)"
   ]
  },
  {
   "cell_type": "code",
   "execution_count": 432,
   "metadata": {},
   "outputs": [],
   "source": [
    "def dedecrypt(encrypted_text, n):\n",
    "    if encrypted_text == '' or n <= 0:\n",
    "        return encrypted_text\n",
    "    #n = 4 - n\n",
    "    newText = encrypted_text\n",
    "    if len(newText) % 2 != 0:\n",
    "        for i in range(4 - n):\n",
    "            print(newText)\n",
    "            newText = newText[1::2] + newText[0::2]\n",
    "        #print(newText)\n",
    "    #return newText\n",
    "    elif len(newText) % 2 == 0:\n",
    "        for i in range(5 - n):\n",
    "            print(newText)\n",
    "            newText = newText[1::2] + newText[0::2]\n",
    "    print('Final answer: ' + newText)"
   ]
  },
  {
   "cell_type": "code",
   "execution_count": 434,
   "metadata": {},
   "outputs": [
    {
     "name": "stdout",
     "output_type": "stream",
     "text": [
      "hsi  etTi sats!\n",
      "s eT ashi tist!\n",
      " Tah itse sits!\n",
      "Final answer: This is a test!\n"
     ]
    }
   ],
   "source": [
    "dedecrypt(de1, 1)"
   ]
  },
  {
   "cell_type": "code",
   "execution_count": 430,
   "metadata": {},
   "outputs": [
    {
     "data": {
      "text/plain": [
       "30"
      ]
     },
     "execution_count": 430,
     "metadata": {},
     "output_type": "execute_result"
    }
   ],
   "source": [
    "len(kata)"
   ]
  },
  {
   "cell_type": "code",
   "execution_count": 435,
   "metadata": {},
   "outputs": [],
   "source": [
    "sequence = (2,2,2)"
   ]
  },
  {
   "cell_type": "code",
   "execution_count": 441,
   "metadata": {},
   "outputs": [],
   "source": [
    "def sequence_sum(begin_number, end_number, step):\n",
    "    if begin_number > end_number:\n",
    "        return 0\n",
    "    i = 0\n",
    "    while i < end_number:\n",
    "        i = i + step\n",
    "        print(i)"
   ]
  },
  {
   "cell_type": "code",
   "execution_count": 445,
   "metadata": {},
   "outputs": [
    {
     "name": "stdout",
     "output_type": "stream",
     "text": [
      "3\n",
      "6\n"
     ]
    }
   ],
   "source": [
    "sequence_sum(1,5,3)"
   ]
  },
  {
   "cell_type": "code",
   "execution_count": null,
   "metadata": {},
   "outputs": [],
   "source": []
  }
 ],
 "metadata": {
  "kernelspec": {
   "display_name": "Python 3",
   "language": "python",
   "name": "python3"
  },
  "language_info": {
   "codemirror_mode": {
    "name": "ipython",
    "version": 3
   },
   "file_extension": ".py",
   "mimetype": "text/x-python",
   "name": "python",
   "nbconvert_exporter": "python",
   "pygments_lexer": "ipython3",
   "version": "3.6.5"
  }
 },
 "nbformat": 4,
 "nbformat_minor": 2
}

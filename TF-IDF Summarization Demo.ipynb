{
 "cells": [
  {
   "cell_type": "markdown",
   "metadata": {},
   "source": [
    "## TF-IDF Summarization\n",
    "TF-IDF(Term Frequency-Inverse Document Frequency)是一種統計方法用來評估一個字詞對於一個文集或語料庫中的其中一份檔案的重要度，在文字探勘和資訊檢索是一個常用的加權技術。依照TF-IDF，字詞的重要性隨著它在檔案中出現的次數成正比增加，但同時會隨著它在語料庫中出現的頻率成反比下降。因此，文檔裏常出現的字詞會比語料庫裏常出現和不重要的詞(e.g. 的，是，個)更有重要性。\n",
    "\n",
    "\n",
    "計算TF-IDF會需要一個語料庫(corpus)，有時稱爲文集或檔案集。在文字探勘裏，語料庫是指大量的文本，通常經過整理還有標記。這個示範用的語料庫只有100個文檔，算非常小——平常的語料庫會大很多(e.g.一百萬以上)，因爲效果也會進步很多。TF-IDF會需要一個語料庫用來跟選擇分析的文章做比較。TF-IDF的公式如下:\n",
    "\n",
    "    TF(w)     =  (字詞w在文檔裏出現的次數)   /    (文檔裏的字詞的總數)\n",
    "\n",
    "    IDF(w)    = log_e(語料庫裏的文檔的總數)  /  (語料庫裏包含字詞w的文檔)\n",
    "\n",
    "    TF-IDF(w) = TF(w) * IDF(w)\n",
    "    \n",
    "**例子**: 我們有一個有100個字詞的文章，字詞 \"Python\" 在檔案裏出現了3次\n",
    "1. \"Python\" 的TF分數會是\n",
    "        TF(Python) = 3 / 100 = 0.03\n",
    "2. 假如說我們的語料庫有一千萬文檔，而 \"Python\" 出現在語料庫一千個文檔裏。\"Python\" 的IDF分數會是\n",
    "        IDF(Python) = log(10,000,000/1,000) = 4\n",
    "3. 最後 \"Python\" 的TF-IDF分數會是\n",
    "        TF-IDF(Python) = 0.03 * 0.04 = 12"
   ]
  },
  {
   "cell_type": "markdown",
   "metadata": {},
   "source": [
    "## 爬文\n",
    "- 爬蘋果新聞的政治新聞\n",
    "- 把爬下來的100篇新聞下載當語料庫"
   ]
  },
  {
   "cell_type": "code",
   "execution_count": 1,
   "metadata": {},
   "outputs": [],
   "source": [
    "import requests\n",
    "from bs4 import BeautifulSoup\n",
    "import pandas as pd"
   ]
  },
  {
   "cell_type": "code",
   "execution_count": 2,
   "metadata": {},
   "outputs": [],
   "source": [
    "def getDetail(url):\n",
    "    ret   = {}\n",
    "    try:\n",
    "        res   = requests.get(url, verify=False)\n",
    "        soup  = BeautifulSoup(res.text, 'lxml')\n",
    "        ret['title']   = soup.select_one('h1').text\n",
    "        ret['content'] = soup.select_one('.ndArticle_margin p').text\n",
    "        ret['category'] = soup.select('.current')[1].text\n",
    "    except:\n",
    "        print(url)\n",
    "    return ret"
   ]
  },
  {
   "cell_type": "code",
   "execution_count": 3,
   "metadata": {},
   "outputs": [],
   "source": [
    "## getDetail('https://tw.appledaily.com/new/realtime/20181128/1474858/')"
   ]
  },
  {
   "cell_type": "code",
   "execution_count": 4,
   "metadata": {},
   "outputs": [],
   "source": [
    "url = 'https://tw.appledaily.com/politics/realtime/{}'\n",
    "\n",
    "def crawlApple(newsurl):\n",
    "    news_ary = []\n",
    "    for i in range(1,2):\n",
    "        res = requests.get(newsurl.format(i), verify=False)\n",
    "        soup = BeautifulSoup(res.text, 'lxml')\n",
    "        for news in soup.select('.rtddt a'):\n",
    "            news_ary.append(getDetail('https://tw.appledaily.com'+news.get('href')))\n",
    "    return news_ary"
   ]
  },
  {
   "cell_type": "code",
   "execution_count": 5,
   "metadata": {},
   "outputs": [],
   "source": [
    "## newsdf = pd.DataFrame(crawlApple(newsurl)) # 把爬下來的文章變成 pandas DataFrame\n",
    "## newsdf.head(10)"
   ]
  },
  {
   "cell_type": "code",
   "execution_count": 6,
   "metadata": {},
   "outputs": [],
   "source": [
    "## newsdf.head(100).to_excel('appledaily_politinews100.xlsx') # 只用100個文件, corpus平常會比較大, 比如說10,000,000個文件"
   ]
  },
  {
   "cell_type": "code",
   "execution_count": 7,
   "metadata": {},
   "outputs": [
    {
     "data": {
      "text/html": [
       "<div>\n",
       "<style scoped>\n",
       "    .dataframe tbody tr th:only-of-type {\n",
       "        vertical-align: middle;\n",
       "    }\n",
       "\n",
       "    .dataframe tbody tr th {\n",
       "        vertical-align: top;\n",
       "    }\n",
       "\n",
       "    .dataframe thead th {\n",
       "        text-align: right;\n",
       "    }\n",
       "</style>\n",
       "<table border=\"1\" class=\"dataframe\">\n",
       "  <thead>\n",
       "    <tr style=\"text-align: right;\">\n",
       "      <th></th>\n",
       "      <th>category</th>\n",
       "      <th>content</th>\n",
       "      <th>title</th>\n",
       "    </tr>\n",
       "  </thead>\n",
       "  <tbody>\n",
       "    <tr>\n",
       "      <th>0</th>\n",
       "      <td>政治</td>\n",
       "      <td>總統蔡英文卸任民進黨主席，昨在臉書po給黨員的一封信，信中說，民進黨會展開一場轟轟烈烈的檢討...</td>\n",
       "      <td>蔡英文要轟轟烈烈檢討民進黨　林濁水酸：民主國家沒聽過</td>\n",
       "    </tr>\n",
       "    <tr>\n",
       "      <th>1</th>\n",
       "      <td>政治</td>\n",
       "      <td>民進黨這次九合一選舉慘敗，蔡英文辭去黨主席一職，昨公布「給黨員的一封信」，內容提到，最該改變...</td>\n",
       "      <td>他列民進黨10大豬隊友　「不下架將賠上2020」</td>\n",
       "    </tr>\n",
       "    <tr>\n",
       "      <th>2</th>\n",
       "      <td>政治</td>\n",
       "      <td>2018年地方選舉國民黨拿下空前勝利，執政地區從6縣市竄升為15縣市，昨中常會上國民黨提出選...</td>\n",
       "      <td>選戰檢討報告出爐　國民黨：落選者「缺乏對外拓票企圖心」</td>\n",
       "    </tr>\n",
       "    <tr>\n",
       "      <th>3</th>\n",
       "      <td>政治</td>\n",
       "      <td>準高雄市長韓國瑜的愛女韓冰昨(28日)受邀上政論節目《54新觀點》，首度與民進黨台北市議員王...</td>\n",
       "      <td>不用跳愛河！韓冰邀替高雄拚觀光　王世堅靦腆：可以廢物利用</td>\n",
       "    </tr>\n",
       "    <tr>\n",
       "      <th>4</th>\n",
       "      <td>政治</td>\n",
       "      <td>點我直接觀看 被操弄的民調？《蘋果》數據解密</td>\n",
       "      <td>【民調解密3】林佳龍敗在紫爆　盧秀燕跌破眼鏡大勝</td>\n",
       "    </tr>\n",
       "  </tbody>\n",
       "</table>\n",
       "</div>"
      ],
      "text/plain": [
       "  category                                            content  \\\n",
       "0       政治  總統蔡英文卸任民進黨主席，昨在臉書po給黨員的一封信，信中說，民進黨會展開一場轟轟烈烈的檢討...   \n",
       "1       政治  民進黨這次九合一選舉慘敗，蔡英文辭去黨主席一職，昨公布「給黨員的一封信」，內容提到，最該改變...   \n",
       "2       政治  2018年地方選舉國民黨拿下空前勝利，執政地區從6縣市竄升為15縣市，昨中常會上國民黨提出選...   \n",
       "3       政治  準高雄市長韓國瑜的愛女韓冰昨(28日)受邀上政論節目《54新觀點》，首度與民進黨台北市議員王...   \n",
       "4       政治                             點我直接觀看 被操弄的民調？《蘋果》數據解密   \n",
       "\n",
       "                          title  \n",
       "0    蔡英文要轟轟烈烈檢討民進黨　林濁水酸：民主國家沒聽過  \n",
       "1      他列民進黨10大豬隊友　「不下架將賠上2020」  \n",
       "2   選戰檢討報告出爐　國民黨：落選者「缺乏對外拓票企圖心」  \n",
       "3  不用跳愛河！韓冰邀替高雄拚觀光　王世堅靦腆：可以廢物利用  \n",
       "4      【民調解密3】林佳龍敗在紫爆　盧秀燕跌破眼鏡大勝  "
      ]
     },
     "execution_count": 7,
     "metadata": {},
     "output_type": "execute_result"
    }
   ],
   "source": [
    "news100 = pd.read_excel('appledaily_politinews100.xlsx')\n",
    "news100.head()"
   ]
  },
  {
   "cell_type": "markdown",
   "metadata": {},
   "source": [
    "## 清理文集並創建語料庫\n",
    "- 清理爬下來文集（刪除標點符號，數字，和停止詞）\n",
    "- 設定/創造詞庫\n",
    "- 創造語料庫，然後把它轉換成電腦能分析的格式"
   ]
  },
  {
   "cell_type": "code",
   "execution_count": 8,
   "metadata": {},
   "outputs": [],
   "source": [
    "from sklearn.feature_extraction.text import CountVectorizer\n",
    "from sklearn.feature_extraction.text import TfidfTransformer\n",
    "from sklearn.feature_extraction.text import TfidfVectorizer\n",
    "import numpy as np\n",
    "import jieba\n",
    "import jieba.analyse"
   ]
  },
  {
   "cell_type": "code",
   "execution_count": 9,
   "metadata": {
    "scrolled": true
   },
   "outputs": [
    {
     "name": "stderr",
     "output_type": "stream",
     "text": [
      "D:\\Anaconda3\\lib\\site-packages\\urllib3\\connectionpool.py:858: InsecureRequestWarning: Unverified HTTPS request is being made. Adding certificate verification is strongly advised. See: https://urllib3.readthedocs.io/en/latest/advanced-usage.html#ssl-warnings\n",
      "  InsecureRequestWarning)\n",
      "Building prefix dict from C:\\Users\\YB0002777\\Desktop\\Learning Python\\dict.txt.big.txt ...\n",
      "Loading model from cache C:\\Users\\YB0002~1\\AppData\\Local\\Temp\\jieba.u018f3a7b0c6b32cba5278025feb505ed.cache\n",
      "Loading model cost 1.366 seconds.\n",
      "Prefix dict has been built succesfully.\n"
     ]
    }
   ],
   "source": [
    "text = news100['content']\n",
    "\n",
    "# 設定適合的標點符號和停止詞\n",
    "punctuation = [' ','；','，','。','！','：','「','」','｣','…','、','？','【','】','.',':','?',';','!','~','`','+','-','<','>','/','[',']','{','}',\"'\",'\"',     '\\xa0','%','）','（','\\u3000','\\u200b','\\t','／']\n",
    "stop = requests.get('https://raw.githubusercontent.com/tomlinNTUB/Machine-Learning/master/data/%E5%81%9C%E7%94%A8%E8%A9%9E-%E7%B9%81%E9%AB%94%E4%B8%AD%E6%96%87.txt', verify = False)\n",
    "stopwords = stop.text.split('\\r\\n')\n",
    "addedStops = ['httpswwwfacebookcomappledailytw','nannan','好','已','最']\n",
    "\n",
    "# 刪除標點符號和數字\n",
    "cleanText = []\n",
    "for doc in text:\n",
    "    onedoc=''\n",
    "    for char in str(doc).replace('\\n',''):\n",
    "        if char not in punctuation and not char.isdigit() :#and char not in stopwords\n",
    "            onedoc += char\n",
    "    cleanText.append(onedoc)\n",
    "\n",
    "# 設定詞庫和加詞\n",
    "jieba.set_dictionary('dict.txt.big.txt') # 應用繁體詞庫\n",
    "jieba.add_word('蔡英文') # 加新詞進入詞庫\n",
    "jieba.add_word('韓國瑜')\n",
    "jieba.add_word('柯P')\n",
    "jieba.add_word('柯文哲')\n",
    "jieba.add_word('邱豐光')\n",
    "jieba.add_word('民進黨')\n",
    "jieba.add_word('國民黨')\n",
    "\n",
    "# 創造語料庫，刪除停止詞\n",
    "corpus = [] # 語料庫\n",
    "for cleanDoc in cleanText:\n",
    "    textList = jieba.lcut(cleanDoc, cut_all=False)\n",
    "    noBrakesList = []\n",
    "    for phrase in textList:\n",
    "        if phrase not in stopwords and phrase not in addedStops:\n",
    "            noBrakesList.append(phrase)\n",
    "    corpus.append(' '.join(noBrakesList))\n",
    "\n",
    "#corpus"
   ]
  },
  {
   "cell_type": "code",
   "execution_count": 10,
   "metadata": {},
   "outputs": [
    {
     "data": {
      "text/plain": [
       "<100x6500 sparse matrix of type '<class 'numpy.float64'>'\n",
       "\twith 17452 stored elements in Compressed Sparse Row format>"
      ]
     },
     "execution_count": 10,
     "metadata": {},
     "output_type": "execute_result"
    }
   ],
   "source": [
    "# 把語料庫和文章轉換成vector\n",
    "vect = TfidfVectorizer(token_pattern=r'(?u)\\b\\w+\\b', max_features = 6500)\n",
    "corpus_tfidf = vect.fit_transform(corpus)\n",
    "\n",
    "# 語料庫 sparse matrix/vectors\n",
    "corpus_tfidf"
   ]
  },
  {
   "cell_type": "code",
   "execution_count": 11,
   "metadata": {},
   "outputs": [
    {
     "data": {
      "text/plain": [
       "array(['邱豐光', '邱', '開口', '侯', '副', '市長', '目前', '柯文哲', '多以', '邱任', '邱力',\n",
       "       '人脈廣', '必達', '明升暗降', '搶人', '空穴來風', '商界', '看待', '冀望', '看上', '弟',\n",
       "       '探詢', '使命', '將於月', '強邱', '調往', '警政', '正式', '王嘉慶', '警', '去年', '警察局',\n",
       "       '不約而同', '大學', '大戰', '柯侯', '宜', '周刊', '警政署', '人侯友', '副手', '喜歡',\n",
       "       '各縣市', '私下', '回覆', '來當', '早', '署長', '發現', '一場', '就職', '幕僚', '王',\n",
       "       '侯友宜', '做好', '柯p', '局長', '綜合', '意願', '議會', '外界', '交換', '前度', '片',\n",
       "       '邁選', '報導', '效果', '曝光', '挺', '展開', '首長', '協議', '密約', '重要', '找',\n",
       "       '新北', '君子', '結束', '溝通', '當時', '落幕', '對此', '工作', '選戰', '討論', '決定',\n",
       "       '台北市', '原本', '參選', '前', '日', '時', '韓國瑜', '月', '當選', '陳', '選舉',\n",
       "       '知道', '想', '表示'], dtype='<U33')"
      ]
     },
     "execution_count": 11,
     "metadata": {},
     "output_type": "execute_result"
    }
   ],
   "source": [
    "# 語料庫最高TF-IDF分數的100個單詞/最重要的單詞\n",
    "feature_array = np.array(vect.get_feature_names())\n",
    "tfidf_sorting = np.argsort(corpus_tfidf.toarray()).flatten()[::-1]\n",
    "\n",
    "n = 100\n",
    "top_n = feature_array[tfidf_sorting][:n]\n",
    "top_n"
   ]
  },
  {
   "cell_type": "markdown",
   "metadata": {},
   "source": [
    "## Vectorize文章並找出最適合做摘要的句子\n",
    "- 把文章分成句子\n",
    "- 把句子轉換成vector，然後計算每個句子的TF-IDF分數\n",
    "- 找出TF-IDF分數最高的句子用來做長文摘要"
   ]
  },
  {
   "cell_type": "code",
   "execution_count": 12,
   "metadata": {},
   "outputs": [
    {
     "data": {
      "text/plain": [
       "'今年九合一大選投票狀況多，據了解，中選會官方網站在投票日當天曾遭到來自境外大規模分散式阻斷服務（DD0oS）攻擊，所幸在負責網路維護中華電信應變下，未進一步造成影響。中選會副主委陳朝建今證實曾遭駭客攻擊，不過計票網路是封閉系統，並非公開網路，無法由外界接取，因此沒有任何影響，境外網路干擾也並未影響投票進程。行政院發言人Kolas Yotaka（谷辣斯・尤達卡）表示，中選會在選前即做好縝密防護，因此成功防堵攻擊，接下來將針對有形的選務如投票排隊問題，以及無形的選務如資安防護進行檢討。不過，投票日當天開票進程緩慢，台北市選情更創下史上第一次開票長達9小時的紀錄，陳朝建說明，開票時間長是因為投票時間延後，計票不受駭客影響，開票也自然不受此影響。據內部消息指出，投票日當天曾出現從境外進行分散式阻斷服務（DDoS）攻擊，企圖癱瘓中選會網站，不過在中華電信、中選會緊急處理後，阻斷來自國外異常流量，在短時間獲得解決，一般民眾並沒有發現特殊異樣。NCC及中華電信暫未對此做進一步說明。陳朝建表示，受攻擊的是中選會官方網站，當日開票的計票網路是獨立的封閉網路，並非公開網路，無法由外界接取，完全未有任何影響；中華電信團隊也是24小時監控與防護作業，也沒有受到任何影響。陳朝建說，受到攻擊的官網，當日皆有隨時防衛，中華電信團隊24小時監控與防護作業；故當日遭到來自境外大規模分散式阻斷服務（DD0oS）攻擊時，在負責網路維護中華電信的緊急應變下，並沒有受到影響。另外，Kolas表示，中選會的官網在選舉當天上午6時56分至7時01分期間，遭受大規模境外DDoS攻擊，而中選會的系統是封閉系統，防護非常嚴密，因此沒被攻擊，而當因中選會在選前即做好縝密的防護，當天其實沒因網路攻擊發生意外狀況，中選會的資安管理有成功防堵攻擊。Kolas表示，所幸這次在事前有預見可能的危險，中選會的資料庫、網站等都沒遭受損害，而在資訊時代，行政院希望在這波中選會的選務檢討中，不只針對有形被詬病的排隊投票問題，無形的選務如資安防護，也會進行檢討、加強。（林惟崧、鄭鴻達／台北報導）出版：1454更新：1942（新增行政院說法） \\xa0想知道更多，一定要看……【獨家】投票日遭境外駭客攻擊\\u3000中選會網站險癱瘓看了這則新聞的人，也看了……老里長險勝1票\\u3000美女里長候選人要求驗票發祭品囉！\\u3000韓總雞排逾千份這邊領吳敦義邀15位縣市首長積極參與決策\\u3000「黨意與民意呼吸」'"
      ]
     },
     "execution_count": 12,
     "metadata": {},
     "output_type": "execute_result"
    }
   ],
   "source": [
    "import re\n",
    "\n",
    "# 選擇文章，把文章分成句子\n",
    "docNum = 31\n",
    "testDoc = news100['content'][docNum]\n",
    "testTitle = news100['title'][docNum]\n",
    "\n",
    "def splitSentences(document):\n",
    "    #for sent in re.findall(u'[^!?。\\.\\!\\?]+[!?。\\.\\!\\?]?', paragraph, flags=re.U):\n",
    "    for sent in re.findall(u'[^!?。\\!\\?]+[!?。\\!\\?]?', document, flags=re.U):\n",
    "        yield sent\n",
    "\n",
    "sentenceDoc = []\n",
    "for sent in list(splitSentences(testDoc))[:-1]:\n",
    "    sentenceDoc.append(' '.join(jieba.cut(sent)))\n",
    "\n",
    "# 原本文章\n",
    "testDoc"
   ]
  },
  {
   "cell_type": "code",
   "execution_count": 13,
   "metadata": {},
   "outputs": [
    {
     "data": {
      "text/plain": [
       "['今年 九 合一 大選 投票 狀況 多 ， 據 了解 ， 中選會 官方網站 在 投票 日 當天 曾 遭到 來自 境外 大規模 分散式 阻斷 服務 （ DD0oS ） 攻擊 ， 所幸 在 負責 網路 維護 中華電信 應變 下 ， 未 進一步 造成 影響 。',\n",
       " '中選會 副 主委 陳 朝 建今 證實 曾 遭 駭客 攻擊 ， 不過 計票 網路 是 封閉系統 ， 並非 公開 網路 ， 無法 由 外界 接取 ， 因此 沒有 任何 影響 ， 境外 網路 干擾 也 並未 影響 投票 進程 。',\n",
       " '行政院 發言人 Kolas   Yotaka （ 谷辣斯 ・ 尤 達卡 ） 表示 ， 中選會 在 選前 即 做好 縝密 防護 ， 因此 成功 防堵 攻擊 ， 接下來 將 針對 有形 的 選務 如 投票 排隊 問題 ， 以及 無形 的 選務 如資安 防護 進行 檢討 。',\n",
       " '不過 ， 投票 日 當天 開票 進程 緩慢 ， 台北市 選情 更 創下 史上 第一次 開票 長達 9 小時 的 紀錄 ， 陳 朝建 說明 ， 開票 時間 長 是 因為 投票 時間 延後 ， 計票 不 受 駭客 影響 ， 開票 也 自然 不受 此 影響 。',\n",
       " '據 內部消息 指出 ， 投票 日 當天 曾 出現 從 境外 進行 分散式 阻斷 服務 （ DDoS ） 攻擊 ， 企圖 癱瘓 中選會 網站 ， 不過 在 中華電信 、 中選會 緊急 處理 後 ， 阻斷 來自 國外 異常 流量 ， 在 短時間 獲得 解決 ， 一般 民眾並 沒有 發現 特殊 異樣 。',\n",
       " 'NCC 及 中華電信 暫未 對此 做 進一步 說明 。',\n",
       " '陳 朝建 表示 ， 受 攻擊 的 是 中選會 官方網站 ， 當日 開票 的 計票 網路 是 獨立 的 封閉 網路 ， 並非 公開 網路 ， 無法 由 外界 接取 ， 完全 未有 任何 影響 ； 中華電信 團隊 也 是 24 小時 監控 與 防護 作業 ， 也 沒有 受到 任何 影響 。',\n",
       " '陳 朝建 說 ， 受到 攻擊 的 官網 ， 當日 皆 有 隨時 防衛 ， 中華電信 團隊 24 小時 監控 與 防護 作業 ； 故 當日 遭到 來自 境外 大規模 分散式 阻斷 服務 （ DD0oS ） 攻擊 時 ， 在 負責 網路 維護 中華電信 的 緊急 應變 下 ， 並 沒有 受到 影響 。',\n",
       " '另外 ， Kolas 表示 ， 中選會 的 官網 在 選舉 當天 上午 6 時 56 分至 7 時 01 分 期間 ， 遭受 大規模 境外 DDoS 攻擊 ， 而 中選會 的 系統 是 封閉系統 ， 防護 非常 嚴密 ， 因此 沒 被 攻擊 ， 而 當因 中選會 在 選前 即 做好 縝密 的 防護 ， 當天 其實 沒因 網路 攻擊 發生意外 狀況 ， 中選會 的 資安 管理 有 成功 防堵 攻擊 。',\n",
       " 'Kolas 表示 ， 所幸 這次 在 事前 有 預見 可能 的 危險 ， 中選會 的 資料庫 、 網站 等 都 沒 遭受 損害 ， 而 在 資訊 時代 ， 行政院 希望 在 這波 中選會 的 選務 檢討 中 ， 不 只 針對 有形 被 詬病 的 排隊 投票 問題 ， 無形 的 選務 如資安 防護 ， 也 會 進行 檢討 、 加強 。']"
      ]
     },
     "execution_count": 13,
     "metadata": {},
     "output_type": "execute_result"
    }
   ],
   "source": [
    "# 分詞後的文章\n",
    "sentenceDoc"
   ]
  },
  {
   "cell_type": "code",
   "execution_count": 14,
   "metadata": {},
   "outputs": [
    {
     "data": {
      "text/plain": [
       "<10x6500 sparse matrix of type '<class 'numpy.float64'>'\n",
       "\twith 263 stored elements in Compressed Sparse Row format>"
      ]
     },
     "execution_count": 14,
     "metadata": {},
     "output_type": "execute_result"
    }
   ],
   "source": [
    "# 把文章轉換成vector\n",
    "doctor_tfidf = vect.transform(sentenceDoc)\n",
    "doctor_tfidf"
   ]
  },
  {
   "cell_type": "code",
   "execution_count": 15,
   "metadata": {},
   "outputs": [
    {
     "data": {
      "text/plain": [
       "[5.320901241812664,\n",
       " 4.223532014145172,\n",
       " 4.582918038414828,\n",
       " 4.7476349631144235,\n",
       " 5.331435489581073,\n",
       " 2.557473534332187,\n",
       " 4.666741832240017,\n",
       " 5.151569570930698,\n",
       " 4.850851288291918,\n",
       " 5.385329498460101]"
      ]
     },
     "execution_count": 15,
     "metadata": {},
     "output_type": "execute_result"
    }
   ],
   "source": [
    "# 把每個句子的總共TF-IDF分數計算好\n",
    "def tfidf_sum(doc_array):\n",
    "    sumlst = []\n",
    "    for sentence in doc_array.toarray():\n",
    "        sumlst.append(sum(sentence))\n",
    "    return sumlst\n",
    "tfidf_sum(doctor_tfidf)"
   ]
  },
  {
   "cell_type": "markdown",
   "metadata": {},
   "source": [
    "## 長文摘要"
   ]
  },
  {
   "cell_type": "code",
   "execution_count": 16,
   "metadata": {},
   "outputs": [
    {
     "name": "stdout",
     "output_type": "stream",
     "text": [
      "標題: 《中選會證實投票日遭駭客攻擊　行政院：成功防堵》\n",
      "0  今年九合一大選投票狀況多，據了解，中選會官方網站在投票日當天曾遭到來自境外大規模分散式阻斷服務（DD0oS）攻擊，所幸在負責網路維護中華電信應變下，未進一步造成影響。\n",
      "1  中選會副主委陳朝建今證實曾遭駭客攻擊，不過計票網路是封閉系統，並非公開網路，無法由外界接取，因此沒有任何影響，境外網路干擾也並未影響投票進程。\n",
      "2  行政院發言人KolasYotaka（谷辣斯・尤達卡）表示，中選會在選前即做好縝密防護，因此成功防堵攻擊，接下來將針對有形的選務如投票排隊問題，以及無形的選務如資安防護進行檢討。\n",
      "3  不過，投票日當天開票進程緩慢，台北市選情更創下史上第一次開票長達9小時的紀錄，陳朝建說明，開票時間長是因為投票時間延後，計票不受駭客影響，開票也自然不受此影響。\n",
      "4  據內部消息指出，投票日當天曾出現從境外進行分散式阻斷服務（DDoS）攻擊，企圖癱瘓中選會網站，不過在中華電信、中選會緊急處理後，阻斷來自國外異常流量，在短時間獲得解決，一般民眾並沒有發現特殊異樣。\n",
      "5  NCC及中華電信暫未對此做進一步說明。\n",
      "6  陳朝建表示，受攻擊的是中選會官方網站，當日開票的計票網路是獨立的封閉網路，並非公開網路，無法由外界接取，完全未有任何影響；中華電信團隊也是24小時監控與防護作業，也沒有受到任何影響。\n",
      "7  陳朝建說，受到攻擊的官網，當日皆有隨時防衛，中華電信團隊24小時監控與防護作業；故當日遭到來自境外大規模分散式阻斷服務（DD0oS）攻擊時，在負責網路維護中華電信的緊急應變下，並沒有受到影響。\n",
      "8  另外，Kolas表示，中選會的官網在選舉當天上午6時56分至7時01分期間，遭受大規模境外DDoS攻擊，而中選會的系統是封閉系統，防護非常嚴密，因此沒被攻擊，而當因中選會在選前即做好縝密的防護，當天其實沒因網路攻擊發生意外狀況，中選會的資安管理有成功防堵攻擊。\n",
      "9  Kolas表示，所幸這次在事前有預見可能的危險，中選會的資料庫、網站等都沒遭受損害，而在資訊時代，行政院希望在這波中選會的選務檢討中，不只針對有形被詬病的排隊投票問題，無形的選務如資安防護，也會進行檢討、加強。\n"
     ]
    }
   ],
   "source": [
    "# 原本文章列爲句子\n",
    "index = 0\n",
    "print('標題: ' + '《' + testTitle + '》')\n",
    "for sentence in sentenceDoc:\n",
    "    print(str(index) + ' ', sentence.replace(' ', '').strip())\n",
    "    index += 1"
   ]
  },
  {
   "cell_type": "code",
   "execution_count": 17,
   "metadata": {},
   "outputs": [
    {
     "name": "stdout",
     "output_type": "stream",
     "text": [
      "標題: 《中選會證實投票日遭駭客攻擊　行政院：成功防堵》\n",
      "Sentence 0 | TF-IDF Score: 5.320901241812664\n",
      " 今年九合一大選投票狀況多，據了解，中選會官方網站在投票日當天曾遭到來自境外大規模分散式阻斷服務（DD0oS）攻擊，所幸在負責網路維護中華電信應變下，未進一步造成影響。\n",
      "Sentence 4 | TF-IDF Score: 5.331435489581073\n",
      " 據內部消息指出，投票日當天曾出現從境外進行分散式阻斷服務（DDoS）攻擊，企圖癱瘓中選會網站，不過在中華電信、中選會緊急處理後，阻斷來自國外異常流量，在短時間獲得解決，一般民眾並沒有發現特殊異樣。\n",
      "Sentence 9 | TF-IDF Score: 5.385329498460101\n",
      " Kolas表示，所幸這次在事前有預見可能的危險，中選會的資料庫、網站等都沒遭受損害，而在資訊時代，行政院希望在這波中選會的選務檢討中，不只針對有形被詬病的排隊投票問題，無形的選務如資安防護，也會進行檢討、加強。\n"
     ]
    }
   ],
   "source": [
    "# 選擇摘要的長度\n",
    "sentCount = 3\n",
    "\n",
    "# 找出文章TF-IDF分數最高的句子做摘要\n",
    "max_tfidf = sorted(range(len(tfidf_sum(doctor_tfidf))), key=lambda i: tfidf_sum(doctor_tfidf)[i], reverse=True)[:sentCount]\n",
    "print('標題: ' + '《' + testTitle + '》')\n",
    "for sentence in sorted(max_tfidf):\n",
    "    print('Sentence ' + str(sentence) + ' | TF-IDF Score: ' + str(tfidf_sum(doctor_tfidf)[sentence]) + '\\n', sentenceDoc[sentence].replace(' ','').strip())"
   ]
  },
  {
   "cell_type": "markdown",
   "metadata": {},
   "source": [
    "**會提高摘要效果的改進**\n",
    "1. 更進階的方法計算句子的重要性（不僅把一個句子的TF-IDF分數全加起來）\n",
    "    - 只算每個句子的名詞TF-IDF分數\n",
    "    - 提高在標題裏的詞的TF-IDF分數\n",
    "    - 依照句子在文章裏的位置加分\n",
    "2. 更好的分詞/分句子，詞庫，和語料庫會有更好的效果/摘要\n",
    "    - 語料庫越大，輸出的效果會越好 （語料庫的文章如果有10,000,000個 vs. 100個)\n",
    "    - 詞庫加入更多名詞/分詞更準確也會幫助效果\n",
    "    - 把文章分成句子時，有時候文章的含義會改變\n",
    "3. 利用同義詞加強詞庫"
   ]
  }
 ],
 "metadata": {
  "kernelspec": {
   "display_name": "Python 3",
   "language": "python",
   "name": "python3"
  },
  "language_info": {
   "codemirror_mode": {
    "name": "ipython",
    "version": 3
   },
   "file_extension": ".py",
   "mimetype": "text/x-python",
   "name": "python",
   "nbconvert_exporter": "python",
   "pygments_lexer": "ipython3",
   "version": "3.6.5"
  }
 },
 "nbformat": 4,
 "nbformat_minor": 2
}
